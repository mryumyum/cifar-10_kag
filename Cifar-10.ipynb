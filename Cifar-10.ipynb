{
 "cells": [
  {
   "cell_type": "code",
   "execution_count": 1,
   "id": "dafcfd05",
   "metadata": {},
   "outputs": [],
   "source": [
    "import numpy as np\n",
    "import pandas as pd\n",
    "import matplotlib.pyplot as plt\n",
    "import tensorflow as tf\n",
    "from tensorflow.keras.models import Sequential\n",
    "from tensorflow.keras.layers import Dense, Flatten, Dropout, Activation, Conv2D, MaxPooling2D, BatchNormalization\n",
    "from keras.preprocessing.image import ImageDataGenerator\n",
    "from tensorflow.keras.utils import to_categorical\n",
    "\n",
    "import numpy as np\n",
    "from keras.preprocessing import image\n",
    "\n",
    "from py7zr import unpack_7zarchive\n",
    "import shutil\n",
    "shutil.register_unpack_format('7zip',['.7z'],unpack_7zarchive)\n",
    "\n",
    "import os\n",
    "from os import listdir"
   ]
  },
  {
   "cell_type": "code",
   "execution_count": 2,
   "id": "679c0f8a",
   "metadata": {},
   "outputs": [],
   "source": [
    "(x_train, y_train), (x_test, y_test) = tf.keras.datasets.cifar10.load_data()"
   ]
  },
  {
   "cell_type": "code",
   "execution_count": 3,
   "id": "863c9791",
   "metadata": {},
   "outputs": [],
   "source": [
    "x_train=x_train/255\n",
    "x_test=x_test/255\n",
    "\n",
    "y_train_cat = to_categorical(y_train,10)\n",
    "y_test_cat = to_categorical(y_test,10)"
   ]
  },
  {
   "cell_type": "code",
   "execution_count": 2,
   "id": "0081bbdd",
   "metadata": {},
   "outputs": [],
   "source": [
    "shutil.unpack_archive('train.7z', '/kaggle/temp/')"
   ]
  },
  {
   "cell_type": "code",
   "execution_count": 3,
   "id": "70e014a9",
   "metadata": {},
   "outputs": [
    {
     "name": "stdout",
     "output_type": "stream",
     "text": [
      "['frog' 'truck' 'deer' 'automobile' 'bird' 'horse' 'ship' 'cat' 'dog'\n",
      " 'airplane']\n"
     ]
    }
   ],
   "source": [
    "train_labels = pd.read_csv(\"trainLabels.csv\", header=\"infer\")\n",
    "\n",
    "classes = train_labels['label'].unique()\n",
    "print(classes)"
   ]
  },
  {
   "cell_type": "code",
   "execution_count": 4,
   "id": "9d8c09ba",
   "metadata": {},
   "outputs": [
    {
     "name": "stdout",
     "output_type": "stream",
     "text": [
      "Found 50000 images belonging to 10 classes.\n"
     ]
    }
   ],
   "source": [
    "train_datagen = ImageDataGenerator(featurewise_center=False,\n",
    "                             samplewise_center=False,\n",
    "                             featurewise_std_normalization=False,\n",
    "                             samplewise_std_normalization=False,\n",
    "                             zca_whitening=False,\n",
    "                             rotation_range=10,\n",
    "                             zoom_range=0.1,\n",
    "                             width_shift_range=0.1,\n",
    "                             height_shift_range=0.1,\n",
    "                             horizontal_flip=False,\n",
    "                             vertical_flip=False,\n",
    "                             rescale=1./255)\n",
    "\n",
    "train_generator = train_datagen.flow_from_directory(directory='/kaggle/temp/train/', shuffle=True, target_size=(32,32),batch_size=128)"
   ]
  },
  {
   "cell_type": "code",
   "execution_count": 4,
   "id": "e4e134e6",
   "metadata": {},
   "outputs": [],
   "source": [
    "cnn = tf.keras.models.Sequential()\n",
    "\n",
    "cnn.add(tf.keras.layers.Conv2D(filters=32, kernel_size=3, activation = 'relu', kernel_initializer='he_uniform', padding='same', input_shape= (32,32,3)))\n",
    "cnn.add(BatchNormalization())\n",
    "cnn.add(tf.keras.layers.Conv2D(filters=32, kernel_size=3, activation = 'relu', kernel_initializer='he_uniform', padding='same'))\n",
    "cnn.add(BatchNormalization())\n",
    "cnn.add(tf.keras.layers.MaxPool2D(pool_size=2, strides=2))\n",
    "cnn.add(Dropout(0.2))\n",
    "\n",
    "cnn.add(tf.keras.layers.Conv2D(filters=64, kernel_size=3, activation = 'relu', kernel_initializer='he_uniform', padding='same'))\n",
    "cnn.add(BatchNormalization())\n",
    "cnn.add(tf.keras.layers.Conv2D(filters=64, kernel_size=3, activation = 'relu', kernel_initializer='he_uniform', padding='same'))\n",
    "cnn.add(BatchNormalization())\n",
    "cnn.add(tf.keras.layers.MaxPool2D(pool_size=2, strides=2))\n",
    "cnn.add(Dropout(0.3))\n",
    "\n",
    "cnn.add(tf.keras.layers.Conv2D(filters=128, kernel_size=3, activation = 'relu', kernel_initializer='he_uniform', padding='same'))\n",
    "cnn.add(BatchNormalization())\n",
    "cnn.add(tf.keras.layers.Conv2D(filters=128, kernel_size=3, activation = 'relu', kernel_initializer='he_uniform', padding='same'))\n",
    "cnn.add(BatchNormalization())\n",
    "cnn.add(tf.keras.layers.MaxPool2D(pool_size=2, strides=2))\n",
    "cnn.add(Dropout(0.4))\n",
    "\n",
    "cnn.add(tf.keras.layers.Conv2D(filters=256, kernel_size=3, activation = 'relu', kernel_initializer='he_uniform', padding='same'))\n",
    "cnn.add(BatchNormalization())\n",
    "cnn.add(tf.keras.layers.Conv2D(filters=256, kernel_size=3, activation = 'relu', kernel_initializer='he_uniform', padding='same'))\n",
    "cnn.add(BatchNormalization())\n",
    "cnn.add(tf.keras.layers.MaxPool2D(pool_size=2, strides=2))\n",
    "cnn.add(Dropout(0.5))\n",
    "\n",
    "\n",
    "cnn.add(tf.keras.layers.Flatten()) \n",
    "\n",
    "cnn.add(tf.keras.layers.Dense(units=256, activation='relu'))\n",
    "cnn.add(BatchNormalization())\n",
    "cnn.add(Dropout(0.5))\n",
    "cnn.add(tf.keras.layers.Dense(units=10, activation='softmax'))\n",
    "#opt = SGD(lr=0.001, momentum=0.9)\n",
    "cnn.compile(optimizer = 'adam', loss = 'categorical_crossentropy', metrics = ['accuracy'])"
   ]
  },
  {
   "cell_type": "code",
   "execution_count": 5,
   "id": "1c9ea6e1",
   "metadata": {},
   "outputs": [
    {
     "name": "stdout",
     "output_type": "stream",
     "text": [
      "Epoch 1/20\n",
      "1563/1563 [==============================] - 41s 23ms/step - loss: 1.7449 - accuracy: 0.3950 - val_loss: 1.2079 - val_accuracy: 0.5653\n",
      "Epoch 2/20\n",
      "1563/1563 [==============================] - 39s 25ms/step - loss: 1.1551 - accuracy: 0.5884 - val_loss: 0.9499 - val_accuracy: 0.6667\n",
      "Epoch 3/20\n",
      "1563/1563 [==============================] - 47s 30ms/step - loss: 0.9367 - accuracy: 0.6721 - val_loss: 0.7527 - val_accuracy: 0.7363\n",
      "Epoch 4/20\n",
      "1563/1563 [==============================] - 45s 29ms/step - loss: 0.8186 - accuracy: 0.7156 - val_loss: 0.6950 - val_accuracy: 0.7580\n",
      "Epoch 5/20\n",
      "1563/1563 [==============================] - 42s 27ms/step - loss: 0.7229 - accuracy: 0.7528 - val_loss: 0.6162 - val_accuracy: 0.7855\n",
      "Epoch 6/20\n",
      "1563/1563 [==============================] - 42s 27ms/step - loss: 0.6562 - accuracy: 0.7779 - val_loss: 0.6132 - val_accuracy: 0.7911\n",
      "Epoch 7/20\n",
      "1563/1563 [==============================] - 44s 28ms/step - loss: 0.6000 - accuracy: 0.7959 - val_loss: 0.5382 - val_accuracy: 0.8132\n",
      "Epoch 8/20\n",
      "1563/1563 [==============================] - 46s 29ms/step - loss: 0.5567 - accuracy: 0.8100 - val_loss: 0.5084 - val_accuracy: 0.8256\n",
      "Epoch 9/20\n",
      "1563/1563 [==============================] - 44s 28ms/step - loss: 0.5234 - accuracy: 0.8209 - val_loss: 0.5176 - val_accuracy: 0.8261\n",
      "Epoch 10/20\n",
      "1563/1563 [==============================] - 34s 22ms/step - loss: 0.4876 - accuracy: 0.8334 - val_loss: 0.4994 - val_accuracy: 0.8352\n",
      "Epoch 11/20\n",
      "1563/1563 [==============================] - 33s 21ms/step - loss: 0.4644 - accuracy: 0.8412 - val_loss: 0.4939 - val_accuracy: 0.8352\n",
      "Epoch 12/20\n",
      "1563/1563 [==============================] - 34s 22ms/step - loss: 0.4375 - accuracy: 0.8521 - val_loss: 0.4667 - val_accuracy: 0.8417\n",
      "Epoch 13/20\n",
      "1563/1563 [==============================] - 36s 23ms/step - loss: 0.4190 - accuracy: 0.8575 - val_loss: 0.4591 - val_accuracy: 0.8456\n",
      "Epoch 14/20\n",
      "1563/1563 [==============================] - 35s 22ms/step - loss: 0.3994 - accuracy: 0.8627 - val_loss: 0.4743 - val_accuracy: 0.8433\n",
      "Epoch 15/20\n",
      "1563/1563 [==============================] - 33s 21ms/step - loss: 0.3781 - accuracy: 0.8702 - val_loss: 0.4554 - val_accuracy: 0.8488\n",
      "Epoch 16/20\n",
      "1563/1563 [==============================] - 34s 22ms/step - loss: 0.3647 - accuracy: 0.8777 - val_loss: 0.5087 - val_accuracy: 0.8332\n",
      "Epoch 17/20\n",
      "1563/1563 [==============================] - 34s 22ms/step - loss: 0.3501 - accuracy: 0.8801 - val_loss: 0.4550 - val_accuracy: 0.8540\n",
      "Epoch 18/20\n",
      "1563/1563 [==============================] - 42s 27ms/step - loss: 0.3346 - accuracy: 0.8852 - val_loss: 0.4765 - val_accuracy: 0.8438\n",
      "Epoch 19/20\n",
      "1563/1563 [==============================] - 47s 30ms/step - loss: 0.3221 - accuracy: 0.8895 - val_loss: 0.4650 - val_accuracy: 0.8501\n",
      "Epoch 20/20\n",
      "1563/1563 [==============================] - 43s 28ms/step - loss: 0.3112 - accuracy: 0.8935 - val_loss: 0.4472 - val_accuracy: 0.8565\n"
     ]
    }
   ],
   "source": [
    "hist = cnn.fit(x_train, y_train_cat, validation_data = (x_test,y_test_cat), epochs = 20)"
   ]
  },
  {
   "cell_type": "code",
   "execution_count": 6,
   "id": "a7510863",
   "metadata": {},
   "outputs": [
    {
     "data": {
      "text/plain": [
       "<AxesSubplot:>"
      ]
     },
     "execution_count": 6,
     "metadata": {},
     "output_type": "execute_result"
    },
    {
     "data": {
      "image/png": "[encoded data removed]",
      "text/plain": [
       "<Figure size 432x288 with 1 Axes>"
      ]
     },
     "metadata": {
      "needs_background": "light"
     },
     "output_type": "display_data"
    }
   ],
   "source": [
    "pd.DataFrame(hist.history).plot()"
   ]
  },
  {
   "cell_type": "code",
   "execution_count": 7,
   "id": "0e91ed2d",
   "metadata": {},
   "outputs": [
    {
     "name": "stdout",
     "output_type": "stream",
     "text": [
      "INFO:tensorflow:Assets written to: convNN\\assets\n"
     ]
    }
   ],
   "source": [
    "cnn.save('convNN')"
   ]
  },
  {
   "cell_type": "code",
   "execution_count": 5,
   "id": "c32b3aaf",
   "metadata": {},
   "outputs": [],
   "source": [
    "cnn = tf.keras.models.load_model('convNN')"
   ]
  },
  {
   "cell_type": "code",
   "execution_count": 6,
   "id": "075e4057",
   "metadata": {},
   "outputs": [],
   "source": [
    "shutil.unpack_archive('test.7z','/kaggle/temp/test')\n",
    "shutil.unregister_unpack_format('7zip')"
   ]
  },
  {
   "cell_type": "code",
   "execution_count": 9,
   "id": "bddc582a",
   "metadata": {},
   "outputs": [
    {
     "name": "stdout",
     "output_type": "stream",
     "text": [
      "Found 300000 images belonging to 1 classes.\n"
     ]
    }
   ],
   "source": [
    "test_datagen = ImageDataGenerator(rescale=1./255)\n",
    "\n",
    "test_gen = test_datagen.flow_from_directory(directory='/kaggle/temp/test',target_size=(32,32), class_mode=None)"
   ]
  },
  {
   "cell_type": "code",
   "execution_count": 10,
   "id": "94ad56e5",
   "metadata": {},
   "outputs": [],
   "source": [
    "predictions_vecs = cnn.predict(test_gen)\n",
    "predictions_final = np.argmax(predictions_vecs, axis=1)"
   ]
  },
  {
   "cell_type": "code",
   "execution_count": 11,
   "id": "50e231cc",
   "metadata": {},
   "outputs": [
    {
     "name": "stdout",
     "output_type": "stream",
     "text": [
      "{'airplane': 0, 'automobile': 1, 'bird': 2, 'cat': 3, 'deer': 4, 'dog': 5, 'frog': 6, 'horse': 7, 'ship': 8, 'truck': 9}\n",
      "{0: 'airplane', 1: 'automobile', 2: 'bird', 3: 'cat', 4: 'deer', 5: 'dog', 6: 'frog', 7: 'horse', 8: 'ship', 9: 'truck'}\n"
     ]
    },
    {
     "data": {
      "text/plain": [
       "array(['bird', 'frog', 'ship', ..., 'truck', 'truck', 'bird'],\n",
       "      dtype='<U20')"
      ]
     },
     "execution_count": 11,
     "metadata": {},
     "output_type": "execute_result"
    }
   ],
   "source": [
    "print(train_generator.class_indices)\n",
    "\n",
    "classes = {value:key for (key,value) in train_generator.class_indices.items()}\n",
    "print(classes)\n",
    "\n",
    "predicted_classes=np.empty(shape=300000,dtype=np.dtype('U20'))\n",
    "\n",
    "ind=0\n",
    "for i in predictions_final.tolist():\n",
    "    predicted_classes[ind]=classes[i]\n",
    "    ind=ind+1\n",
    "    \n",
    "predicted_classes"
   ]
  },
  {
   "cell_type": "code",
   "execution_count": 12,
   "id": "1eb56f53",
   "metadata": {},
   "outputs": [
    {
     "data": {
      "text/html": [
       "<div>\n",
       "<style scoped>\n",
       "    .dataframe tbody tr th:only-of-type {\n",
       "        vertical-align: middle;\n",
       "    }\n",
       "\n",
       "    .dataframe tbody tr th {\n",
       "        vertical-align: top;\n",
       "    }\n",
       "\n",
       "    .dataframe thead th {\n",
       "        text-align: right;\n",
       "    }\n",
       "</style>\n",
       "<table border=\"1\" class=\"dataframe\">\n",
       "  <thead>\n",
       "    <tr style=\"text-align: right;\">\n",
       "      <th></th>\n",
       "      <th>label</th>\n",
       "    </tr>\n",
       "    <tr>\n",
       "      <th>id</th>\n",
       "      <th></th>\n",
       "    </tr>\n",
       "  </thead>\n",
       "  <tbody>\n",
       "    <tr>\n",
       "      <th>1</th>\n",
       "      <td>bird</td>\n",
       "    </tr>\n",
       "    <tr>\n",
       "      <th>2</th>\n",
       "      <td>frog</td>\n",
       "    </tr>\n",
       "    <tr>\n",
       "      <th>3</th>\n",
       "      <td>ship</td>\n",
       "    </tr>\n",
       "    <tr>\n",
       "      <th>4</th>\n",
       "      <td>cat</td>\n",
       "    </tr>\n",
       "    <tr>\n",
       "      <th>5</th>\n",
       "      <td>bird</td>\n",
       "    </tr>\n",
       "    <tr>\n",
       "      <th>...</th>\n",
       "      <td>...</td>\n",
       "    </tr>\n",
       "    <tr>\n",
       "      <th>299996</th>\n",
       "      <td>deer</td>\n",
       "    </tr>\n",
       "    <tr>\n",
       "      <th>299997</th>\n",
       "      <td>dog</td>\n",
       "    </tr>\n",
       "    <tr>\n",
       "      <th>299998</th>\n",
       "      <td>truck</td>\n",
       "    </tr>\n",
       "    <tr>\n",
       "      <th>299999</th>\n",
       "      <td>truck</td>\n",
       "    </tr>\n",
       "    <tr>\n",
       "      <th>300000</th>\n",
       "      <td>bird</td>\n",
       "    </tr>\n",
       "  </tbody>\n",
       "</table>\n",
       "<p>300000 rows × 1 columns</p>\n",
       "</div>"
      ],
      "text/plain": [
       "        label\n",
       "id           \n",
       "1        bird\n",
       "2        frog\n",
       "3        ship\n",
       "4         cat\n",
       "5        bird\n",
       "...       ...\n",
       "299996   deer\n",
       "299997    dog\n",
       "299998  truck\n",
       "299999  truck\n",
       "300000   bird\n",
       "\n",
       "[300000 rows x 1 columns]"
      ]
     },
     "execution_count": 12,
     "metadata": {},
     "output_type": "execute_result"
    }
   ],
   "source": [
    "sub = pd.DataFrame(index = range(len(predicted_classes)))\n",
    "sub.index.name = 'id'\n",
    "sub.index += 1\n",
    "sub['label'] = predicted_classes\n",
    "#ans = ans.assign(Survived = y_pred)\n",
    "sub.to_csv('Submission.csv')\n",
    "sub"
   ]
  },
  {
   "cell_type": "code",
   "execution_count": null,
   "id": "31a7fb02",
   "metadata": {},
   "outputs": [],
   "source": []
  }
 ],
 "metadata": {
  "kernelspec": {
   "display_name": "Python 3 (ipykernel)",
   "language": "python",
   "name": "python3"
  },
  "language_info": {
   "codemirror_mode": {
    "name": "ipython",
    "version": 3
   },
   "file_extension": ".py",
   "mimetype": "text/x-python",
   "name": "python",
   "nbconvert_exporter": "python",
   "pygments_lexer": "ipython3",
   "version": "3.9.7"
  }
 },
 "nbformat": 4,
 "nbformat_minor": 5
}
